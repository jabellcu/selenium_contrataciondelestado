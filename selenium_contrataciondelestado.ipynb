{
 "cells": [
  {
   "cell_type": "code",
   "execution_count": null,
   "metadata": {},
   "outputs": [],
   "source": [
    "from pathlib import Path\n",
    "from selenium import webdriver\n",
    "from selenium.webdriver.common.action_chains import ActionChains\n",
    "from selenium.webdriver.common.keys import Keys\n",
    "import time\n",
    "import pandas as pd"
   ]
  },
  {
   "cell_type": "markdown",
   "metadata": {},
   "source": [
    "# Hardcoded variables"
   ]
  },
  {
   "cell_type": "code",
   "execution_count": null,
   "metadata": {},
   "outputs": [],
   "source": [
    "driver_path = Path('chromedriver.exe')"
   ]
  },
  {
   "cell_type": "code",
   "execution_count": null,
   "metadata": {},
   "outputs": [],
   "source": [
    "CPVs_sfp = Path('CPVs.txt')  # a list of words. No index, no headers."
   ]
  },
  {
   "cell_type": "code",
   "execution_count": null,
   "metadata": {},
   "outputs": [],
   "source": [
    "url_template = r'https://contrataciondelestado.es/wps/portal/empresas/'"
   ]
  },
  {
   "cell_type": "markdown",
   "metadata": {},
   "source": [
    "# Aux functions"
   ]
  },
  {
   "cell_type": "code",
   "execution_count": null,
   "metadata": {},
   "outputs": [],
   "source": [
    "CPVs = pd.read_csv(CPVs_sfp, dtype=str, squeeze=True, header=None)"
   ]
  },
  {
   "cell_type": "code",
   "execution_count": null,
   "metadata": {},
   "outputs": [],
   "source": [
    "driver = webdriver.Chrome([str(driver_path)])\n",
    "driver.implicitly_wait(3)\n",
    "\n",
    "url = url_template\n",
    "driver.get(url)"
   ]
  },
  {
   "cell_type": "code",
   "execution_count": null,
   "metadata": {},
   "outputs": [],
   "source": [
    "raise Exception(\"Manual intervention required - read the message below\")"
   ]
  },
  {
   "cell_type": "markdown",
   "metadata": {},
   "source": [
    "User must manually log in and navigate to:\n",
    "\n",
    "\"Suscripciones\" > \"Suscripciones\" > __\"Nueva Suscripción\"__\n",
    "\n",
    "__Fill any name in the box next to \"Nombre de la suscripción\" and then proceed with the rest of the notebook.__"
   ]
  },
  {
   "cell_type": "code",
   "execution_count": null,
   "metadata": {},
   "outputs": [],
   "source": [
    "def enter_CPV(driver, CPV):\n",
    "\n",
    "    elem = driver.find_element_by_id(\"viewns_Z7_AVEQAI930G56A0277L5M4N3G02_:form1:cpvMultiple:codigoCpv\")\n",
    "    elem.send_keys(CPV)\n",
    "\n",
    "    elem = driver.find_element_by_id(\"viewns_Z7_AVEQAI930G56A0277L5M4N3G02_:form1:cpvMultiplebuttonAnyadirMultiple\")\n",
    "    elem.click()"
   ]
  },
  {
   "cell_type": "code",
   "execution_count": null,
   "metadata": {},
   "outputs": [],
   "source": [
    "for i, CPV in enumerate(CPVs):\n",
    "    print(f'{i+1}/{len(CPVs)} {CPV}')\n",
    "    enter_CPV(driver, CPV)"
   ]
  },
  {
   "cell_type": "code",
   "execution_count": null,
   "metadata": {},
   "outputs": [],
   "source": [
    "driver.close()"
   ]
  }
 ],
 "metadata": {
  "kernelspec": {
   "display_name": "Python 3",
   "language": "python",
   "name": "python3"
  },
  "language_info": {
   "codemirror_mode": {
    "name": "ipython",
    "version": 3
   },
   "file_extension": ".py",
   "mimetype": "text/x-python",
   "name": "python",
   "nbconvert_exporter": "python",
   "pygments_lexer": "ipython3",
   "version": "3.7.4"
  }
 },
 "nbformat": 4,
 "nbformat_minor": 2
}
